{
 "cells": [
  {
   "cell_type": "code",
   "execution_count": 1,
   "metadata": {
    "id": "A-MHu59djQxM"
   },
   "outputs": [],
   "source": [
    "import tensorflow as tf\n",
    "import numpy as np\n",
    "import matplotlib.pyplot as plt\n",
    "import os\n",
    "import sys\n",
    "\n",
    "# from model import Create_transfert_learning_Model\n",
    "from processing.generator import Dataset_Generator\n",
    "from processing.processor import Image_Processing\n",
    "\n",
    "# import os\n",
    "# os.environ[\"CUDA_VISIBLE_DEVICES\"] = \"-1\""
   ]
  },
  {
   "cell_type": "code",
   "execution_count": 6,
   "metadata": {},
   "outputs": [
    {
     "name": "stdout",
     "output_type": "stream",
     "text": [
      "[PhysicalDevice(name='/physical_device:GPU:0', device_type='GPU')]\n",
      "0\n"
     ]
    }
   ],
   "source": [
    "print(tf.config.list_physical_devices('GPU'))\n",
    "print(tf.config.experimental.get_memory_usage('GPU:0'))"
   ]
  },
  {
   "cell_type": "code",
   "execution_count": 7,
   "metadata": {},
   "outputs": [],
   "source": [
    "Generator = Dataset_Generator(nbr_augmentation=1)"
   ]
  },
  {
   "cell_type": "code",
   "execution_count": 8,
   "metadata": {},
   "outputs": [
    {
     "name": "stderr",
     "output_type": "stream",
     "text": [
      "100%|██████████| 117/117 [00:01<00:00, 64.58it/s]\n",
      "100%|██████████| 118/118 [00:01<00:00, 70.30it/s]\n"
     ]
    },
    {
     "name": "stdout",
     "output_type": "stream",
     "text": [
      "(1475, 224, 224, 3) (1475, 1)\n",
      "(56, 224, 224, 3) (56, 1)\n",
      "(114, 224, 224, 3) (114, 1)\n"
     ]
    }
   ],
   "source": [
    "X_train, Y_train,\\\n",
    "X_dev, Y_dev,\\\n",
    "X_test, Y_test = Generator(healthy_dir_name='leaves_img/sain',\n",
    "                           disease_dir_name='leaves_img/malade')"
   ]
  },
  {
   "cell_type": "code",
   "execution_count": 9,
   "metadata": {},
   "outputs": [
    {
     "name": "stdout",
     "output_type": "stream",
     "text": [
      "888115360\n",
      "128\n",
      "33718432\n",
      "128\n",
      "68640928\n",
      "128\n"
     ]
    }
   ],
   "source": [
    "print(sys.getsizeof(X_train))\n",
    "print(sys.getsizeof(Y_train))\n",
    "print(sys.getsizeof(X_dev))\n",
    "print(sys.getsizeof(Y_dev))\n",
    "print(sys.getsizeof(X_test))\n",
    "print(sys.getsizeof(Y_test))"
   ]
  },
  {
   "cell_type": "code",
   "execution_count": 17,
   "metadata": {},
   "outputs": [
    {
     "name": "stdout",
     "output_type": "stream",
     "text": [
      "0.9743866880000001 GB\n"
     ]
    }
   ],
   "source": [
    "print(tf.config.experimental.get_memory_usage('GPU:0')* 1e-9, \"GB\")"
   ]
  },
  {
   "cell_type": "code",
   "execution_count": 18,
   "metadata": {
    "colab": {
     "base_uri": "https://localhost:8080/"
    },
    "id": "qSxW-tpPjX21",
    "outputId": "d0919365-9371-4889-eb75-635a0290c309"
   },
   "outputs": [],
   "source": [
    "from tensorflow.keras.optimizers import Adam\n",
    "from keras import Model\n",
    "from tensorflow.keras.layers import Dense\n",
    "from tensorflow.keras.layers import Flatten "
   ]
  },
  {
   "cell_type": "code",
   "execution_count": 19,
   "metadata": {},
   "outputs": [],
   "source": [
    "def load_vgg(IMAGE_SHAPE : list):\n",
    "\n",
    "  vgg = tf.keras.applications.VGG19(include_top=False, \n",
    "                                    input_shape=IMAGE_SHAPE,\n",
    "                                    weights='imagenet')\n",
    "  for layer in vgg.layers:\n",
    "    layer.trainable = False\n",
    "\n",
    "  return (vgg)"
   ]
  },
  {
   "cell_type": "code",
   "execution_count": 20,
   "metadata": {},
   "outputs": [],
   "source": [
    "def add_new_top_layers(vgg : Model):\n",
    "    \n",
    "    last_conv_layer = vgg.output\n",
    "    flatten_layer = Flatten(name='flatten_layer')(last_conv_layer)\n",
    "    fully_connected = Dense(4096, name='fully_connected')(flatten_layer) \n",
    "    prediction = Dense(2, activation='sigmoid', name='lamioude')(fully_connected)\n",
    "    \n",
    "    model = Model(inputs=vgg.input, outputs=prediction)\n",
    "    model.compile(loss='mse', optimizer='adam', metrics=['accuracy'])\n",
    "    return (model)"
   ]
  },
  {
   "cell_type": "code",
   "execution_count": 21,
   "metadata": {},
   "outputs": [],
   "source": [
    "from tensorflow.keras import Sequential"
   ]
  },
  {
   "cell_type": "code",
   "execution_count": 22,
   "metadata": {},
   "outputs": [],
   "source": [
    "class Mildew_Classifier(Model):\n",
    "\n",
    "    def __init__(self, IMAGE_SHAPE=[224, 224, 3]):\n",
    "      \n",
    "      super().__init__()\n",
    "      self.vgg = load_vgg(IMAGE_SHAPE)\n",
    "      self.flatten = Flatten(name='Flatten')\n",
    "      self.FC = Dense(4096, name='FC')\n",
    "      self.prediction = Dense(2, activation='softmax', name='prediction')\n",
    "      self.compile(optimizer=\"adam\",\n",
    "                   loss=\"mse\",\n",
    "                   metrics=[\"acuracy\"])\n",
    "  \n",
    "    def call(self, input):\n",
    "      \n",
    "      x = self.vgg(input)\n",
    "      x = self.flatten(x)\n",
    "      x = self.FC(x)\n",
    "      output = self.prediction(x)\n",
    "  \n",
    "      return (output)"
   ]
  },
  {
   "cell_type": "code",
   "execution_count": 23,
   "metadata": {},
   "outputs": [],
   "source": [
    "model = Mildew_Classifier()"
   ]
  },
  {
   "cell_type": "code",
   "execution_count": 24,
   "metadata": {},
   "outputs": [
    {
     "name": "stdout",
     "output_type": "stream",
     "text": [
      "1.0555028480000002 GB\n"
     ]
    }
   ],
   "source": [
    "print(tf.config.experimental.get_memory_usage('GPU:0')* 1e-9, \"GB\")"
   ]
  },
  {
   "cell_type": "code",
   "execution_count": 13,
   "metadata": {},
   "outputs": [
    {
     "ename": "ValueError",
     "evalue": "in user code:\n\n    File \"/home/widium/.conda/envs/tf_gpu/lib/python3.8/site-packages/keras/engine/training.py\", line 878, in train_function  *\n        return step_function(self, iterator)\n    File \"/home/widium/.conda/envs/tf_gpu/lib/python3.8/site-packages/keras/engine/training.py\", line 867, in step_function  **\n        outputs = model.distribute_strategy.run(run_step, args=(data,))\n    File \"/home/widium/.conda/envs/tf_gpu/lib/python3.8/site-packages/keras/engine/training.py\", line 860, in run_step  **\n        outputs = model.train_step(data)\n    File \"/home/widium/.conda/envs/tf_gpu/lib/python3.8/site-packages/keras/engine/training.py\", line 817, in train_step\n        self.compiled_metrics.update_state(y, y_pred, sample_weight)\n    File \"/home/widium/.conda/envs/tf_gpu/lib/python3.8/site-packages/keras/engine/compile_utils.py\", line 439, in update_state\n        self.build(y_pred, y_true)\n    File \"/home/widium/.conda/envs/tf_gpu/lib/python3.8/site-packages/keras/engine/compile_utils.py\", line 359, in build\n        self._metrics = tf.__internal__.nest.map_structure_up_to(y_pred, self._get_metric_objects,\n    File \"/home/widium/.conda/envs/tf_gpu/lib/python3.8/site-packages/keras/engine/compile_utils.py\", line 485, in _get_metric_objects\n        return [self._get_metric_object(m, y_t, y_p) for m in metrics]\n    File \"/home/widium/.conda/envs/tf_gpu/lib/python3.8/site-packages/keras/engine/compile_utils.py\", line 485, in <listcomp>\n        return [self._get_metric_object(m, y_t, y_p) for m in metrics]\n    File \"/home/widium/.conda/envs/tf_gpu/lib/python3.8/site-packages/keras/engine/compile_utils.py\", line 504, in _get_metric_object\n        metric_obj = metrics_mod.get(metric)\n    File \"/home/widium/.conda/envs/tf_gpu/lib/python3.8/site-packages/keras/metrics.py\", line 3785, in get\n        return deserialize(str(identifier))\n    File \"/home/widium/.conda/envs/tf_gpu/lib/python3.8/site-packages/keras/metrics.py\", line 3741, in deserialize\n        return deserialize_keras_object(\n    File \"/home/widium/.conda/envs/tf_gpu/lib/python3.8/site-packages/keras/utils/generic_utils.py\", line 708, in deserialize_keras_object\n        raise ValueError(\n\n    ValueError: Unknown metric function: acuracy. Please ensure this object is passed to the `custom_objects` argument. See https://www.tensorflow.org/guide/keras/save_and_serialize#registering_the_custom_object for details.\n",
     "output_type": "error",
     "traceback": [
      "\u001b[0;31m---------------------------------------------------------------------------\u001b[0m",
      "\u001b[0;31mValueError\u001b[0m                                Traceback (most recent call last)",
      "\u001b[1;32m/home/widium/Programming/AI/Tomato/Tomate.ipynb Cell 13\u001b[0m in \u001b[0;36m<cell line: 1>\u001b[0;34m()\u001b[0m\n\u001b[0;32m----> <a href='vscode-notebook-cell:/home/widium/Programming/AI/Tomato/Tomate.ipynb#W5sZmlsZQ%3D%3D?line=0'>1</a>\u001b[0m history \u001b[39m=\u001b[39m model\u001b[39m.\u001b[39;49mfit(X_train, Y_train, epochs\u001b[39m=\u001b[39;49m\u001b[39m1\u001b[39;49m, batch_size\u001b[39m=\u001b[39;49m\u001b[39m1\u001b[39;49m, verbose\u001b[39m=\u001b[39;49m\u001b[39m1\u001b[39;49m, shuffle\u001b[39m=\u001b[39;49m\u001b[39mTrue\u001b[39;49;00m)\n",
      "File \u001b[0;32m~/.conda/envs/tf_gpu/lib/python3.8/site-packages/keras/utils/traceback_utils.py:67\u001b[0m, in \u001b[0;36mfilter_traceback.<locals>.error_handler\u001b[0;34m(*args, **kwargs)\u001b[0m\n\u001b[1;32m     65\u001b[0m \u001b[39mexcept\u001b[39;00m \u001b[39mException\u001b[39;00m \u001b[39mas\u001b[39;00m e:  \u001b[39m# pylint: disable=broad-except\u001b[39;00m\n\u001b[1;32m     66\u001b[0m   filtered_tb \u001b[39m=\u001b[39m _process_traceback_frames(e\u001b[39m.\u001b[39m__traceback__)\n\u001b[0;32m---> 67\u001b[0m   \u001b[39mraise\u001b[39;00m e\u001b[39m.\u001b[39mwith_traceback(filtered_tb) \u001b[39mfrom\u001b[39;00m \u001b[39mNone\u001b[39m\n\u001b[1;32m     68\u001b[0m \u001b[39mfinally\u001b[39;00m:\n\u001b[1;32m     69\u001b[0m   \u001b[39mdel\u001b[39;00m filtered_tb\n",
      "File \u001b[0;32m~/.conda/envs/tf_gpu/lib/python3.8/site-packages/tensorflow/python/framework/func_graph.py:1129\u001b[0m, in \u001b[0;36mfunc_graph_from_py_func.<locals>.autograph_handler\u001b[0;34m(*args, **kwargs)\u001b[0m\n\u001b[1;32m   1127\u001b[0m \u001b[39mexcept\u001b[39;00m \u001b[39mException\u001b[39;00m \u001b[39mas\u001b[39;00m e:  \u001b[39m# pylint:disable=broad-except\u001b[39;00m\n\u001b[1;32m   1128\u001b[0m   \u001b[39mif\u001b[39;00m \u001b[39mhasattr\u001b[39m(e, \u001b[39m\"\u001b[39m\u001b[39mag_error_metadata\u001b[39m\u001b[39m\"\u001b[39m):\n\u001b[0;32m-> 1129\u001b[0m     \u001b[39mraise\u001b[39;00m e\u001b[39m.\u001b[39mag_error_metadata\u001b[39m.\u001b[39mto_exception(e)\n\u001b[1;32m   1130\u001b[0m   \u001b[39melse\u001b[39;00m:\n\u001b[1;32m   1131\u001b[0m     \u001b[39mraise\u001b[39;00m\n",
      "\u001b[0;31mValueError\u001b[0m: in user code:\n\n    File \"/home/widium/.conda/envs/tf_gpu/lib/python3.8/site-packages/keras/engine/training.py\", line 878, in train_function  *\n        return step_function(self, iterator)\n    File \"/home/widium/.conda/envs/tf_gpu/lib/python3.8/site-packages/keras/engine/training.py\", line 867, in step_function  **\n        outputs = model.distribute_strategy.run(run_step, args=(data,))\n    File \"/home/widium/.conda/envs/tf_gpu/lib/python3.8/site-packages/keras/engine/training.py\", line 860, in run_step  **\n        outputs = model.train_step(data)\n    File \"/home/widium/.conda/envs/tf_gpu/lib/python3.8/site-packages/keras/engine/training.py\", line 817, in train_step\n        self.compiled_metrics.update_state(y, y_pred, sample_weight)\n    File \"/home/widium/.conda/envs/tf_gpu/lib/python3.8/site-packages/keras/engine/compile_utils.py\", line 439, in update_state\n        self.build(y_pred, y_true)\n    File \"/home/widium/.conda/envs/tf_gpu/lib/python3.8/site-packages/keras/engine/compile_utils.py\", line 359, in build\n        self._metrics = tf.__internal__.nest.map_structure_up_to(y_pred, self._get_metric_objects,\n    File \"/home/widium/.conda/envs/tf_gpu/lib/python3.8/site-packages/keras/engine/compile_utils.py\", line 485, in _get_metric_objects\n        return [self._get_metric_object(m, y_t, y_p) for m in metrics]\n    File \"/home/widium/.conda/envs/tf_gpu/lib/python3.8/site-packages/keras/engine/compile_utils.py\", line 485, in <listcomp>\n        return [self._get_metric_object(m, y_t, y_p) for m in metrics]\n    File \"/home/widium/.conda/envs/tf_gpu/lib/python3.8/site-packages/keras/engine/compile_utils.py\", line 504, in _get_metric_object\n        metric_obj = metrics_mod.get(metric)\n    File \"/home/widium/.conda/envs/tf_gpu/lib/python3.8/site-packages/keras/metrics.py\", line 3785, in get\n        return deserialize(str(identifier))\n    File \"/home/widium/.conda/envs/tf_gpu/lib/python3.8/site-packages/keras/metrics.py\", line 3741, in deserialize\n        return deserialize_keras_object(\n    File \"/home/widium/.conda/envs/tf_gpu/lib/python3.8/site-packages/keras/utils/generic_utils.py\", line 708, in deserialize_keras_object\n        raise ValueError(\n\n    ValueError: Unknown metric function: acuracy. Please ensure this object is passed to the `custom_objects` argument. See https://www.tensorflow.org/guide/keras/save_and_serialize#registering_the_custom_object for details.\n"
     ]
    }
   ],
   "source": [
    "history = model.fit(X_train, Y_train, epochs=1, batch_size=1, verbose=1, shuffle=True)"
   ]
  },
  {
   "cell_type": "code",
   "execution_count": null,
   "metadata": {},
   "outputs": [],
   "source": [
    "fig, ax = plt.subplots(1, 2, figsize=(15, 10))\n",
    "\n",
    "ax[0].plot(history.history['loss'])\n",
    "ax[0].set_title(\"Loss after epochs\")\n",
    "ax[0].set_xlabel('Loss')\n",
    "ax[0].set_ylabel('Epochs')\n",
    "\n",
    "ax[1].plot(history.history['accuracy'])\n",
    "ax[1].set_title(\"accuracy after epochs\")\n",
    "ax[1].set_xlabel('accuracy')\n",
    "ax[1].set_ylabel('Epochs')\n",
    "\n",
    "plt.show()"
   ]
  },
  {
   "cell_type": "code",
   "execution_count": null,
   "metadata": {},
   "outputs": [],
   "source": []
  }
 ],
 "metadata": {
  "colab": {
   "collapsed_sections": [],
   "provenance": []
  },
  "kernelspec": {
   "display_name": "Python 3.8.0 ('tf_gpu')",
   "language": "python",
   "name": "python3"
  },
  "language_info": {
   "codemirror_mode": {
    "name": "ipython",
    "version": 3
   },
   "file_extension": ".py",
   "mimetype": "text/x-python",
   "name": "python",
   "nbconvert_exporter": "python",
   "pygments_lexer": "ipython3",
   "version": "3.8.0"
  },
  "vscode": {
   "interpreter": {
    "hash": "7af6488317c4eae45cfe2d92ddcd760ac10ac76eee454fa0eead8075769044a8"
   }
  }
 },
 "nbformat": 4,
 "nbformat_minor": 0
}
