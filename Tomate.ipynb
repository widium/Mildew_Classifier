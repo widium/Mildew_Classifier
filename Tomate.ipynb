{
 "cells": [
  {
   "cell_type": "code",
   "execution_count": 15,
   "metadata": {
    "id": "A-MHu59djQxM"
   },
   "outputs": [],
   "source": [
    "import tensorflow as tf\n",
    "import numpy as np\n",
    "from numpy import ndarray\n",
    "import matplotlib.pyplot as plt\n",
    "import time\n",
    "import cv2\n",
    "import os\n",
    "import requests\n",
    "import IPython.display as display\n",
    "import PIL.Image\n",
    "from tqdm import tqdm\n",
    "\n",
    "from cv2 import cvtColor\n",
    "from cv2 import imread\n",
    "from cv2 import COLOR_BGR2RGB\n",
    "\n",
    "from keras import Model\n",
    "from keras.preprocessing.image import load_img, img_to_array\n",
    "from os import listdir\n",
    "from keras import Sequential\n",
    "\n",
    "from data import Data_Augmentation\n",
    "from model import Create_transfert_learning_Model\n",
    "from constant import IMAGE_HEIGHT, IMAGE_WIDTH, IMAGE_COLOR\n",
    "\n",
    "from augmentator import RandomColorShifting\n",
    "\n",
    "from keras.layers import Rescaling, Resizing\n",
    "\n",
    "import os\n",
    "os.environ[\"CUDA_VISIBLE_DEVICES\"] = \"-1\"\n",
    "\n",
    "from keras.layers import Layer\n"
   ]
  },
  {
   "cell_type": "code",
   "execution_count": 16,
   "metadata": {},
   "outputs": [],
   "source": [
    "class Data_Processing:\n",
    "    \n",
    "    def __init__(self, IMAGE_HEIGHT=224, IMAGE_WIDTH=224, nbr_augmentation=10, train_size=0.90, dev_size=0.30):\n",
    "        self.height = IMAGE_HEIGHT\n",
    "        self.width = IMAGE_WIDTH\n",
    "        self.nbr_augmentation = nbr_augmentation\n",
    "        self.train_size = train_size\n",
    "        self.dev_size = dev_size\n",
    "        self.train_set = list()\n",
    "        self.dev_set = list()\n",
    "        self.test_set = list()\n",
    "        self.Resizer = Resizing(224, 224)\n",
    "        self.Rescaler = Rescaling(1./255)\n",
    "        self.Augmentator = Data_Augmentation(nbr_augmentation)\n",
    "\n",
    "    def load_img(self, path : str):\n",
    "        \n",
    "        img = load_img(path)\n",
    "        img = self.Resizer(img)\n",
    "        img = img_to_array(img)\n",
    "        img = self.Rescaler(img)\n",
    "        return (img)\n",
    "\n",
    "    def split_data_in_set(self, set : tuple):\n",
    "        \n",
    "        train_random = np.random.uniform(0, 1)\n",
    "        dev_random = np.random.uniform(0, 1)\n",
    "        \n",
    "        if (train_random < self.train_size):\n",
    "            self.train_set.append(set)\n",
    "        else :\n",
    "            if (dev_random < self.dev_size):\n",
    "                self.dev_set.append(set)\n",
    "            else :\n",
    "                self.test_set.append(set)\n",
    "        \n",
    "        \n",
    "    def labeling_img_directory(self, directory : str, classe : int) :\n",
    "\n",
    "        for filename in tqdm(listdir(directory)):\n",
    "\n",
    "            path = directory + '/' + filename\n",
    "            img = self.load_img(path)\n",
    "            augmented_imgs = self.Augmentator(img)\n",
    "            for augmented in augmented_imgs:\n",
    "                self.split_data_in_set((augmented, classe))\n",
    "\n",
    "    def create_X_Y(self, list_tuple : list):\n",
    "    \n",
    "        X = list()\n",
    "        Y = list()\n",
    "        \n",
    "        for tuple in list_tuple :\n",
    "            X.append(tuple[0])\n",
    "            Y.append(tuple[1])\n",
    "\n",
    "        X = np.array(X)\n",
    "        Y = np.array(Y)\n",
    "        Y = Y.reshape(Y.shape[0], 1)\n",
    "    \n",
    "        return (X, Y)\n",
    "\n",
    "    def output(self, healthy_dir_name : str,  disease_dir_name : str):\n",
    "        \n",
    "        self.labeling_img_directory(directory=disease_dir_name, classe=1)\n",
    "        self.labeling_img_directory(directory=healthy_dir_name, classe=0)\n",
    "        X_train, Y_train = self.create_X_Y(self.train_set)\n",
    "        X_dev, Y_dev = self.create_X_Y(self.dev_set)\n",
    "        X_test, Y_test = self.create_X_Y(self.test_set)\n",
    "        \n",
    "        print(X_train.shape, Y_train.shape)\n",
    "        print(X_dev.shape, Y_dev.shape)\n",
    "        print(X_test.shape, Y_test.shape)\n",
    "        \n",
    "        return (X_train, Y_train,\n",
    "                X_dev, Y_dev,\n",
    "                X_test, Y_test)"
   ]
  },
  {
   "cell_type": "code",
   "execution_count": 17,
   "metadata": {},
   "outputs": [],
   "source": [
    "Processor = Data_Processing()"
   ]
  },
  {
   "cell_type": "code",
   "execution_count": 18,
   "metadata": {},
   "outputs": [
    {
     "name": "stderr",
     "output_type": "stream",
     "text": [
      "100%|██████████| 117/117 [00:14<00:00,  8.00it/s]\n",
      "100%|██████████| 118/118 [00:13<00:00,  8.73it/s]\n"
     ]
    }
   ],
   "source": [
    "X_train, Y_train,\\\n",
    "X_dev, Y_dev,\\\n",
    "X_test, Y_test = Processor.output(healthy_dir_name='leaves_img/sain',\n",
    "                                  disease_dir_name='leaves_img/malade')"
   ]
  },
  {
   "cell_type": "code",
   "execution_count": null,
   "metadata": {
    "colab": {
     "base_uri": "https://localhost:8080/"
    },
    "id": "qSxW-tpPjX21",
    "outputId": "d0919365-9371-4889-eb75-635a0290c309"
   },
   "outputs": [
    {
     "name": "stdout",
     "output_type": "stream",
     "text": [
      "Model: \"model_7\"\n",
      "_________________________________________________________________\n",
      " Layer (type)                Output Shape              Param #   \n",
      "=================================================================\n",
      " input_19 (InputLayer)       [(None, 224, 224, 3)]     0         \n",
      "                                                                 \n",
      " block1_conv1 (Conv2D)       (None, 224, 224, 64)      1792      \n",
      "                                                                 \n",
      " block1_conv2 (Conv2D)       (None, 224, 224, 64)      36928     \n",
      "                                                                 \n",
      " block1_pool (MaxPooling2D)  (None, 112, 112, 64)      0         \n",
      "                                                                 \n",
      " block2_conv1 (Conv2D)       (None, 112, 112, 128)     73856     \n",
      "                                                                 \n",
      " block2_conv2 (Conv2D)       (None, 112, 112, 128)     147584    \n",
      "                                                                 \n",
      " block2_pool (MaxPooling2D)  (None, 56, 56, 128)       0         \n",
      "                                                                 \n",
      " block3_conv1 (Conv2D)       (None, 56, 56, 256)       295168    \n",
      "                                                                 \n",
      " block3_conv2 (Conv2D)       (None, 56, 56, 256)       590080    \n",
      "                                                                 \n",
      " block3_conv3 (Conv2D)       (None, 56, 56, 256)       590080    \n",
      "                                                                 \n",
      " block3_conv4 (Conv2D)       (None, 56, 56, 256)       590080    \n",
      "                                                                 \n",
      " block3_pool (MaxPooling2D)  (None, 28, 28, 256)       0         \n",
      "                                                                 \n",
      " block4_conv1 (Conv2D)       (None, 28, 28, 512)       1180160   \n",
      "                                                                 \n",
      " block4_conv2 (Conv2D)       (None, 28, 28, 512)       2359808   \n",
      "                                                                 \n",
      " block4_conv3 (Conv2D)       (None, 28, 28, 512)       2359808   \n",
      "                                                                 \n",
      " block4_conv4 (Conv2D)       (None, 28, 28, 512)       2359808   \n",
      "                                                                 \n",
      " block4_pool (MaxPooling2D)  (None, 14, 14, 512)       0         \n",
      "                                                                 \n",
      " block5_conv1 (Conv2D)       (None, 14, 14, 512)       2359808   \n",
      "                                                                 \n",
      " block5_conv2 (Conv2D)       (None, 14, 14, 512)       2359808   \n",
      "                                                                 \n",
      " block5_conv3 (Conv2D)       (None, 14, 14, 512)       2359808   \n",
      "                                                                 \n",
      " block5_conv4 (Conv2D)       (None, 14, 14, 512)       2359808   \n",
      "                                                                 \n",
      " block5_pool (MaxPooling2D)  (None, 7, 7, 512)         0         \n",
      "                                                                 \n",
      " flatten_layer (Flatten)     (None, 25088)             0         \n",
      "                                                                 \n",
      " fully_connected (Dense)     (None, 4096)              102764544 \n",
      "                                                                 \n",
      " lamioude (Dense)            (None, 3)                 12291     \n",
      "                                                                 \n",
      "=================================================================\n",
      "Total params: 122,801,219\n",
      "Trainable params: 102,776,835\n",
      "Non-trainable params: 20,024,384\n",
      "_________________________________________________________________\n"
     ]
    }
   ],
   "source": [
    "model = Create_transfert_learning_Model(2)\n",
    "model.summary()"
   ]
  },
  {
   "cell_type": "code",
   "execution_count": null,
   "metadata": {},
   "outputs": [],
   "source": []
  }
 ],
 "metadata": {
  "colab": {
   "collapsed_sections": [],
   "provenance": []
  },
  "kernelspec": {
   "display_name": "Python 3.8.0 ('tf_gpu')",
   "language": "python",
   "name": "python3"
  },
  "language_info": {
   "codemirror_mode": {
    "name": "ipython",
    "version": 3
   },
   "file_extension": ".py",
   "mimetype": "text/x-python",
   "name": "python",
   "nbconvert_exporter": "python",
   "pygments_lexer": "ipython3",
   "version": "3.8.0"
  },
  "vscode": {
   "interpreter": {
    "hash": "7af6488317c4eae45cfe2d92ddcd760ac10ac76eee454fa0eead8075769044a8"
   }
  }
 },
 "nbformat": 4,
 "nbformat_minor": 0
}
